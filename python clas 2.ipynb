{
 "cells": [
  {
   "cell_type": "code",
   "execution_count": 1,
   "id": "c0bf6181-7cfe-42e4-858c-940f3a2cc7cb",
   "metadata": {},
   "outputs": [
    {
     "data": {
      "text/plain": [
       "range(0, 10)"
      ]
     },
     "execution_count": 1,
     "metadata": {},
     "output_type": "execute_result"
    }
   ],
   "source": [
    "range(10)\n"
   ]
  },
  {
   "cell_type": "code",
   "execution_count": 2,
   "id": "8f96d026-5739-4e47-90b4-94fa5246ab86",
   "metadata": {},
   "outputs": [
    {
     "data": {
      "text/plain": [
       "[0, 1, 2, 3, 4, 5, 6, 7, 8, 9]"
      ]
     },
     "execution_count": 2,
     "metadata": {},
     "output_type": "execute_result"
    }
   ],
   "source": [
    "list(range(10))"
   ]
  },
  {
   "cell_type": "code",
   "execution_count": 3,
   "id": "5ea8bd34-ec82-4159-9af7-bae89e148bbe",
   "metadata": {},
   "outputs": [
    {
     "data": {
      "text/plain": [
       "[3, 4, 5, 6, 7, 8, 9]"
      ]
     },
     "execution_count": 3,
     "metadata": {},
     "output_type": "execute_result"
    }
   ],
   "source": [
    "list(range(3,10))"
   ]
  },
  {
   "cell_type": "code",
   "execution_count": 5,
   "id": "65019f65-ce55-4fee-9e20-3bd8cebd424f",
   "metadata": {},
   "outputs": [
    {
     "ename": "SyntaxError",
     "evalue": "invalid syntax (<ipython-input-5-69061b7127be>, line 1)",
     "output_type": "error",
     "traceback": [
      "\u001b[1;36m  File \u001b[1;32m\"<ipython-input-5-69061b7127be>\"\u001b[1;36m, line \u001b[1;32m1\u001b[0m\n\u001b[1;33m    list range(10,3,-1)\u001b[0m\n\u001b[1;37m         ^\u001b[0m\n\u001b[1;31mSyntaxError\u001b[0m\u001b[1;31m:\u001b[0m invalid syntax\n"
     ]
    }
   ],
   "source": [
    "list range(10,3,-1)\n"
   ]
  },
  {
   "cell_type": "code",
   "execution_count": 7,
   "id": "a2df52d9-bdd7-4572-9c1b-bcd3c30c5b81",
   "metadata": {},
   "outputs": [
    {
     "name": "stdout",
     "output_type": "stream",
     "text": [
      "2\n",
      "3\n",
      "4\n",
      "5\n",
      "6\n",
      "7\n",
      "8\n",
      "9\n",
      "66\n",
      "66\n",
      "88\n",
      "33\n"
     ]
    }
   ],
   "source": [
    "l = [2,3,4,5,6,7,8,9,66,66,88,33]\n",
    "for i in l:\n",
    "    print(i)"
   ]
  },
  {
   "cell_type": "code",
   "execution_count": null,
   "id": "9c89feff-df51-40e0-8ccc-cd6fe45a6402",
   "metadata": {},
   "outputs": [],
   "source": [
    "\n"
   ]
  },
  {
   "cell_type": "code",
   "execution_count": 29,
   "id": "613682a3-db82-4514-b9da-ec2f89735e4b",
   "metadata": {},
   "outputs": [
    {
     "name": "stdin",
     "output_type": "stream",
     "text": [
      " ihef\n",
      "ihef \n"
     ]
    },
    {
     "data": {
      "text/plain": [
       "str"
      ]
     },
     "execution_count": 29,
     "metadata": {},
     "output_type": "execute_result"
    }
   ],
   "source": [
    "a = input()\n",
    "b=input(a)\n",
    "type(b)"
   ]
  },
  {
   "cell_type": "code",
   "execution_count": 32,
   "id": "ae60fd77-fc79-4468-be75-23c6346acdb8",
   "metadata": {},
   "outputs": [
    {
     "ename": "IndentationError",
     "evalue": "unexpected indent (<ipython-input-32-4195d761a5de>, line 7)",
     "output_type": "error",
     "traceback": [
      "\u001b[1;36m  File \u001b[1;32m\"<ipython-input-32-4195d761a5de>\"\u001b[1;36m, line \u001b[1;32m7\u001b[0m\n\u001b[1;33m    print(a)\u001b[0m\n\u001b[1;37m    ^\u001b[0m\n\u001b[1;31mIndentationError\u001b[0m\u001b[1;31m:\u001b[0m unexpected indent\n"
     ]
    }
   ],
   "source": [
    "a = 10\n",
    "b = 14\n",
    "c = 9\n",
    "i = 1\n",
    "while i < a:\n",
    "      a = b+c\n",
    "        print(a)\n",
    "    \n",
    "    "
   ]
  },
  {
   "cell_type": "code",
   "execution_count": 1,
   "id": "f4501827-41dd-45f4-87f3-f2754060772b",
   "metadata": {},
   "outputs": [],
   "source": [
    "R = \"rohan\""
   ]
  },
  {
   "cell_type": "code",
   "execution_count": 2,
   "id": "0063da53-ad32-4d3c-9d2f-cade4347a8a4",
   "metadata": {},
   "outputs": [
    {
     "data": {
      "text/plain": [
       "'rohan1'"
      ]
     },
     "execution_count": 2,
     "metadata": {},
     "output_type": "execute_result"
    }
   ],
   "source": [
    "R + str(1)"
   ]
  },
  {
   "cell_type": "code",
   "execution_count": 3,
   "id": "96c146a8-4a42-4d3a-8303-4eeeafe0c195",
   "metadata": {},
   "outputs": [
    {
     "data": {
      "text/plain": [
       "'rohanrohan'"
      ]
     },
     "execution_count": 3,
     "metadata": {},
     "output_type": "execute_result"
    }
   ],
   "source": [
    "R*2"
   ]
  },
  {
   "cell_type": "code",
   "execution_count": 8,
   "id": "c17d8f8b-a540-4bb9-8111-85204e012348",
   "metadata": {},
   "outputs": [
    {
     "data": {
      "text/plain": [
       "'rohanrohanrohanrohanrohanrohanrohanrohanrohanrohanrohanrohanrohanrohanrohanrohanrohanrohanrohanrohanrohanrohan'"
      ]
     },
     "execution_count": 8,
     "metadata": {},
     "output_type": "execute_result"
    }
   ],
   "source": [
    "R*22"
   ]
  },
  {
   "cell_type": "code",
   "execution_count": 10,
   "id": "d45023a9-137b-4219-b9e3-d873ce0123b5",
   "metadata": {},
   "outputs": [],
   "source": [
    "a=\"rohan\""
   ]
  },
  {
   "cell_type": "code",
   "execution_count": 14,
   "id": "a066b39c-e54f-4059-8b4e-bbc50f718665",
   "metadata": {},
   "outputs": [
    {
     "data": {
      "text/plain": [
       "<function str.capitalize()>"
      ]
     },
     "execution_count": 14,
     "metadata": {},
     "output_type": "execute_result"
    }
   ],
   "source": [
    "a.capitalize"
   ]
  },
  {
   "cell_type": "code",
   "execution_count": 18,
   "id": "3c5c043f-61e5-469c-ad46-1c53a91f8a04",
   "metadata": {},
   "outputs": [
    {
     "data": {
      "text/plain": [
       "'ROHAN'"
      ]
     },
     "execution_count": 18,
     "metadata": {},
     "output_type": "execute_result"
    }
   ],
   "source": [
    "a.upper()"
   ]
  },
  {
   "cell_type": "code",
   "execution_count": 16,
   "id": "f20884e2-773f-4a61-891c-ec5fcf79ef28",
   "metadata": {},
   "outputs": [],
   "source": [
    "q='rohan is my name'"
   ]
  },
  {
   "cell_type": "code",
   "execution_count": 17,
   "id": "8b23d9dd-02de-4fd3-bcb8-74436bfc6749",
   "metadata": {},
   "outputs": [
    {
     "data": {
      "text/plain": [
       "['rohan', 'is', 'my', 'name']"
      ]
     },
     "execution_count": 17,
     "metadata": {},
     "output_type": "execute_result"
    }
   ],
   "source": [
    "q.split()"
   ]
  },
  {
   "cell_type": "code",
   "execution_count": 21,
   "id": "4e18c4da-9508-4fa2-b522-404d41de2ca3",
   "metadata": {},
   "outputs": [
    {
     "ename": "TypeError",
     "evalue": "str.swapcase() takes no arguments (1 given)",
     "output_type": "error",
     "traceback": [
      "\u001b[1;31m---------------------------------------------------------------------------\u001b[0m",
      "\u001b[1;31mTypeError\u001b[0m                                 Traceback (most recent call last)",
      "\u001b[1;32m<ipython-input-21-fdba0ed6dec2>\u001b[0m in \u001b[0;36m<module>\u001b[1;34m\u001b[0m\n\u001b[1;32m----> 1\u001b[1;33m \u001b[0mq\u001b[0m\u001b[1;33m.\u001b[0m\u001b[0mswapcase\u001b[0m\u001b[1;33m(\u001b[0m\u001b[1;34m'#'\u001b[0m\u001b[1;33m)\u001b[0m\u001b[1;33m\u001b[0m\u001b[1;33m\u001b[0m\u001b[0m\n\u001b[0m",
      "\u001b[1;31mTypeError\u001b[0m: str.swapcase() takes no arguments (1 given)"
     ]
    }
   ],
   "source": [
    "q.swapcase('#')"
   ]
  },
  {
   "cell_type": "code",
   "execution_count": 1,
   "id": "bfb1f48b-9b2b-4426-a0b9-6a00f11e50df",
   "metadata": {},
   "outputs": [],
   "source": [
    "a = 'rohan is my name'\n"
   ]
  },
  {
   "cell_type": "code",
   "execution_count": 3,
   "id": "7be2e449-b70d-4ba9-b921-3e762b3500ed",
   "metadata": {},
   "outputs": [
    {
     "data": {
      "text/plain": [
       "['rohan is my name']"
      ]
     },
     "execution_count": 3,
     "metadata": {},
     "output_type": "execute_result"
    }
   ],
   "source": [
    "a.split('#')"
   ]
  },
  {
   "cell_type": "code",
   "execution_count": 4,
   "id": "5775ddb6-0107-43a9-a34d-6cb7c747f2b3",
   "metadata": {},
   "outputs": [
    {
     "data": {
      "text/plain": [
       "['rohan i', ' my name']"
      ]
     },
     "execution_count": 4,
     "metadata": {},
     "output_type": "execute_result"
    }
   ],
   "source": [
    "a.split('s')"
   ]
  },
  {
   "cell_type": "code",
   "execution_count": 5,
   "id": "646b6ebe-20a1-48b1-b982-674b48da72cd",
   "metadata": {},
   "outputs": [
    {
     "data": {
      "text/plain": [
       "'Rohan is my name'"
      ]
     },
     "execution_count": 5,
     "metadata": {},
     "output_type": "execute_result"
    }
   ],
   "source": [
    "a.capitalize()"
   ]
  },
  {
   "cell_type": "code",
   "execution_count": 8,
   "id": "8e1b4e95-686e-447c-80bf-a3406433e0d5",
   "metadata": {},
   "outputs": [
    {
     "data": {
      "text/plain": [
       "'rohan is my name'"
      ]
     },
     "execution_count": 8,
     "metadata": {},
     "output_type": "execute_result"
    }
   ],
   "source": [
    "a.casefold()"
   ]
  },
  {
   "cell_type": "code",
   "execution_count": 9,
   "id": "5aa646a3-8b04-46e8-ac04-6e1513e6e11e",
   "metadata": {},
   "outputs": [
    {
     "data": {
      "text/plain": [
       "b'rohan is my name'"
      ]
     },
     "execution_count": 9,
     "metadata": {},
     "output_type": "execute_result"
    }
   ],
   "source": [
    "a.encode()"
   ]
  },
  {
   "cell_type": "code",
   "execution_count": 21,
   "id": "3af6cd6c-4d1d-418a-82c2-4319837d0886",
   "metadata": {},
   "outputs": [
    {
     "ename": "TypeError",
     "evalue": "slice indices must be integers or None or have an __index__ method",
     "output_type": "error",
     "traceback": [
      "\u001b[1;31m---------------------------------------------------------------------------\u001b[0m",
      "\u001b[1;31mTypeError\u001b[0m                                 Traceback (most recent call last)",
      "\u001b[1;32m<ipython-input-21-489b846b014a>\u001b[0m in \u001b[0;36m<module>\u001b[1;34m\u001b[0m\n\u001b[1;32m----> 1\u001b[1;33m \u001b[0ma\u001b[0m\u001b[1;33m.\u001b[0m\u001b[0mfind\u001b[0m\u001b[1;33m(\u001b[0m\u001b[1;36m50\u001b[0m\u001b[1;33m,\u001b[0m\u001b[1;34m'V'\u001b[0m\u001b[1;33m)\u001b[0m\u001b[1;33m\u001b[0m\u001b[1;33m\u001b[0m\u001b[0m\n\u001b[0m",
      "\u001b[1;31mTypeError\u001b[0m: slice indices must be integers or None or have an __index__ method"
     ]
    }
   ],
   "source": [
    "a.find(50,'V')"
   ]
  },
  {
   "cell_type": "code",
   "execution_count": null,
   "id": "18de33db-46b4-45d5-99ed-80d4d7836ef4",
   "metadata": {},
   "outputs": [],
   "source": []
  },
  {
   "cell_type": "code",
   "execution_count": 14,
   "id": "2f9a0e75-01cb-42eb-af7a-d744a8987a31",
   "metadata": {},
   "outputs": [
    {
     "data": {
      "text/plain": [
       "'Rohan Is My Name'"
      ]
     },
     "execution_count": 14,
     "metadata": {},
     "output_type": "execute_result"
    }
   ],
   "source": [
    "a.title()"
   ]
  },
  {
   "cell_type": "code",
   "execution_count": 23,
   "id": "33505306-a86e-40a8-bc90-b70dfaaaeb90",
   "metadata": {},
   "outputs": [],
   "source": [
    "name = 'Rohan\\tkumar'"
   ]
  },
  {
   "cell_type": "code",
   "execution_count": 24,
   "id": "15770912-932b-4651-954f-e7b54c939092",
   "metadata": {},
   "outputs": [
    {
     "data": {
      "text/plain": [
       "'Rohan   kumar'"
      ]
     },
     "execution_count": 24,
     "metadata": {},
     "output_type": "execute_result"
    }
   ],
   "source": [
    "name.expandtabs()"
   ]
  },
  {
   "cell_type": "code",
   "execution_count": 27,
   "id": "125d9b6f-fcca-4c69-91b0-f746690e4edb",
   "metadata": {},
   "outputs": [
    {
     "name": "stdin",
     "output_type": "stream",
     "text": [
      "please give my  last name dhande\n",
      "please give my fisrt name rohan\n"
     ]
    }
   ],
   "source": [
    "a = input (\"please give my  last name\")\n",
    "b = input (\"please give my fisrt name\")"
   ]
  },
  {
   "cell_type": "code",
   "execution_count": 28,
   "id": "dc51fc0a-656a-4687-9656-a9e14a74b0b1",
   "metadata": {},
   "outputs": [
    {
     "name": "stdout",
     "output_type": "stream",
     "text": [
      "dhanderohan\n"
     ]
    }
   ],
   "source": [
    "print(a+b)"
   ]
  },
  {
   "cell_type": "code",
   "execution_count": 33,
   "id": "f990b8a7-ccae-40b3-8e32-c56d542a9f96",
   "metadata": {},
   "outputs": [],
   "source": [
    "s='hello834087'"
   ]
  },
  {
   "cell_type": "code",
   "execution_count": 34,
   "id": "10a8053b-9c05-4ae5-b012-7887acfaba72",
   "metadata": {},
   "outputs": [
    {
     "data": {
      "text/plain": [
       "True"
      ]
     },
     "execution_count": 34,
     "metadata": {},
     "output_type": "execute_result"
    }
   ],
   "source": [
    "s.isalnum()"
   ]
  },
  {
   "cell_type": "code",
   "execution_count": 35,
   "id": "555f061d-6d3e-4774-bcbc-322fc1728f3c",
   "metadata": {},
   "outputs": [
    {
     "data": {
      "text/plain": [
       "False"
      ]
     },
     "execution_count": 35,
     "metadata": {},
     "output_type": "execute_result"
    }
   ],
   "source": [
    "s.isalpha()"
   ]
  },
  {
   "cell_type": "code",
   "execution_count": 37,
   "id": "a4bac542-aef8-4612-b4e8-ddbdf92ef030",
   "metadata": {},
   "outputs": [
    {
     "ename": "SyntaxError",
     "evalue": "invalid syntax (<ipython-input-37-c426372539dc>, line 1)",
     "output_type": "error",
     "traceback": [
      "\u001b[1;36m  File \u001b[1;32m\"<ipython-input-37-c426372539dc>\"\u001b[1;36m, line \u001b[1;32m1\u001b[0m\n\u001b[1;33m    s.isidentifier()\"Saved Games\"\u001b[0m\n\u001b[1;37m                    ^\u001b[0m\n\u001b[1;31mSyntaxError\u001b[0m\u001b[1;31m:\u001b[0m invalid syntax\n"
     ]
    }
   ],
   "source": [
    "s.isidentifier()"
   ]
  },
  {
   "cell_type": "code",
   "execution_count": 38,
   "id": "65ef3fde-4863-405e-8249-150db4e8cd7f",
   "metadata": {},
   "outputs": [],
   "source": [
    "n = [3,4,5,6,7]"
   ]
  },
  {
   "cell_type": "code",
   "execution_count": 39,
   "id": "82c68dcf-95b2-4ee7-b23b-e4b4827520f7",
   "metadata": {},
   "outputs": [],
   "source": [
    "n.sort()"
   ]
  },
  {
   "cell_type": "code",
   "execution_count": 40,
   "id": "ff3fbdff-9497-42e6-bf8a-3a89b25c41fd",
   "metadata": {},
   "outputs": [
    {
     "data": {
      "text/plain": [
       "[3, 4, 5, 6, 7]"
      ]
     },
     "execution_count": 40,
     "metadata": {},
     "output_type": "execute_result"
    }
   ],
   "source": [
    "n"
   ]
  },
  {
   "cell_type": "code",
   "execution_count": 41,
   "id": "96e5129d-82c5-4ac7-a587-8bdd7431c2cd",
   "metadata": {},
   "outputs": [],
   "source": [
    "n.sort(reverse = True)"
   ]
  },
  {
   "cell_type": "code",
   "execution_count": 42,
   "id": "fce2f037-2d0d-4931-b185-bb7d9d00a0e3",
   "metadata": {},
   "outputs": [
    {
     "data": {
      "text/plain": [
       "[7, 6, 5, 4, 3]"
      ]
     },
     "execution_count": 42,
     "metadata": {},
     "output_type": "execute_result"
    }
   ],
   "source": [
    "n"
   ]
  },
  {
   "cell_type": "code",
   "execution_count": 44,
   "id": "125eb5ff-90cc-496b-ba79-0d197b0e927c",
   "metadata": {},
   "outputs": [
    {
     "data": {
      "text/plain": [
       "[[24,\n",
       "  4,\n",
       "  3,\n",
       "  3,\n",
       "  3,\n",
       "  3,\n",
       "  765,\n",
       "  786,\n",
       "  78,\n",
       "  1,\n",
       "  38,\n",
       "  68,\n",
       "  58,\n",
       "  545,\n",
       "  89,\n",
       "  456,\n",
       "  298,\n",
       "  21879,\n",
       "  572,\n",
       "  2528,\n",
       "  282,\n",
       "  22]]"
      ]
     },
     "execution_count": 44,
     "metadata": {},
     "output_type": "execute_result"
    }
   ],
   "source": [
    "a=[24,4,3,3,3,3,765,786,78]\n",
    "b = [1,38,68,58,545,89,456]\n",
    "c=[298,21879,572,2528,282,22]\n",
    "d = [a+b+c]\n",
    "d"
   ]
  },
  {
   "cell_type": "code",
   "execution_count": 47,
   "id": "8371b9e8-227f-44b2-932a-81b9291ebca2",
   "metadata": {},
   "outputs": [
    {
     "name": "stdout",
     "output_type": "stream",
     "text": [
      "[[24, 4, 3, 3, 3, 3, 765, 786, 78, 1, 38, 68, 58, 545, 89, 456, 298, 21879, 572, 2528, 282, 22]]\n"
     ]
    }
   ],
   "source": [
    "print(d)"
   ]
  },
  {
   "cell_type": "code",
   "execution_count": 51,
   "id": "5ee2bb8f-e2b8-4584-b9ab-cfa33e0b6d49",
   "metadata": {},
   "outputs": [
    {
     "data": {
      "text/plain": [
       "[24, 1, 572]"
      ]
     },
     "execution_count": 51,
     "metadata": {},
     "output_type": "execute_result"
    }
   ],
   "source": [
    "d[-1][::9]"
   ]
  },
  {
   "cell_type": "code",
   "execution_count": 52,
   "id": "c660cd55-200c-4f40-bf79-05ada8c7bda9",
   "metadata": {},
   "outputs": [],
   "source": [
    "d.append(44)"
   ]
  },
  {
   "cell_type": "code",
   "execution_count": 53,
   "id": "0cd962ce-13ed-451f-9c1c-9adba7c41c83",
   "metadata": {},
   "outputs": [
    {
     "name": "stdout",
     "output_type": "stream",
     "text": [
      "[[24, 4, 3, 3, 3, 3, 765, 786, 78, 1, 38, 68, 58, 545, 89, 456, 298, 21879, 572, 2528, 282, 22], 44]\n"
     ]
    }
   ],
   "source": [
    "print(d)"
   ]
  },
  {
   "cell_type": "code",
   "execution_count": null,
   "id": "3494b334-06f3-4bea-ba7d-c0af020fd038",
   "metadata": {},
   "outputs": [],
   "source": []
  },
  {
   "cell_type": "code",
   "execution_count": null,
   "id": "e5bfc3a9-2612-4df7-aa07-6568476926b6",
   "metadata": {},
   "outputs": [],
   "source": []
  }
 ],
 "metadata": {
  "kernelspec": {
   "display_name": "Python 3",
   "language": "python",
   "name": "python3"
  },
  "language_info": {
   "codemirror_mode": {
    "name": "ipython",
    "version": 3
   },
   "file_extension": ".py",
   "mimetype": "text/x-python",
   "name": "python",
   "nbconvert_exporter": "python",
   "pygments_lexer": "ipython3",
   "version": "3.9.4"
  }
 },
 "nbformat": 4,
 "nbformat_minor": 5
}
